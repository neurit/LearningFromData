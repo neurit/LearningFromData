{
 "cells": [
  {
   "cell_type": "markdown",
   "metadata": {},
   "source": [
    "Q1. For an $\\mathcal{H}$ with $d_{VC} = 10$, if you want 95% confidence that your generalization error is at most 0.05, what is the closest numerical approximation of the sample size that the VC generalization bound predicts?\n",
    "\n",
    "A. \n",
    "\n",
    "By using the generalization bound, and approximating $m_{\\mathcal{H}}(2N) \\approx (2N)^{d_{VC}}$, we get that\n",
    "\n",
    "\n",
    "$$N \\geq \\frac{8}{\\epsilon^2} \\log \\left ( \\frac{4((2N)^{d_{VC}} + 1)}{\\delta} \\right )$$, \n",
    "\n",
    "so when $d_{VC} = 10$, $\\epsilon = 0.05$ and $\\delta = 0.05$, we get\n",
    "\n",
    "$$N \\geq \\frac{8}{0.05^2} \\log \\left ( \\frac{4(2N)^{10} + 1)}{0.05} \\right )$$\n"
   ]
  },
  {
   "cell_type": "code",
   "execution_count": 261,
   "metadata": {
    "collapsed": false
   },
   "outputs": [],
   "source": [
    "import math\n",
    "\n",
    "def estimateN(N, epsilon, delta, dvc):\n",
    "    ''' estimation function for determining examples given initial estimate N'''\n",
    "    estimate = (8 / (epsilon*epsilon)) * math.log((4* ((2*N)**10) + 1) / delta)\n",
    "    \n",
    "    if (estimate - N)**2 <= 0.01:\n",
    "        return estimate\n",
    "    else:\n",
    "        return estimateN(estimate, epsilon, delta, dvc)"
   ]
  },
  {
   "cell_type": "code",
   "execution_count": 262,
   "metadata": {
    "collapsed": false
   },
   "outputs": [
    {
     "data": {
      "text/plain": [
       "452956.8624225618"
      ]
     },
     "execution_count": 262,
     "metadata": {},
     "output_type": "execute_result"
    }
   ],
   "source": [
    "estimateN(1000, 0.05, 0.05, 10)"
   ]
  },
  {
   "cell_type": "markdown",
   "metadata": {},
   "source": [
    "__ A1. [d] 460,000 __"
   ]
  },
  {
   "cell_type": "markdown",
   "metadata": {},
   "source": [
    "Q2. There are a number of bounds on the generalization error $\\epsilon$, all holding with probability at least $1 - \\delta$. Fix $d_{VC} = 50$ and $\\delta = 0.05$ and plot these bounds as a function of $N$. Which bound is the smallest for very large N, say N = 10, 000? Note that [c] and [d] are implicit bounds in $\\epsilon$. \n",
    "\n"
   ]
  },
  {
   "cell_type": "code",
   "execution_count": 47,
   "metadata": {
    "collapsed": false
   },
   "outputs": [
    {
     "name": "stdout",
     "output_type": "stream",
     "text": [
      "For N = 10000:\n",
      "vc is 0.632174915200836\n",
      "Rademacher is 0.3313087859616395\n",
      "Parrondo and Van den Broek is 0.22382177493925573\n",
      "Devroye is 0.2152281052374131\n",
      "\n",
      "For N = 5:\n",
      "vc is 13.828161484991483\n",
      "Rademacher is 7.048776564183685\n",
      "Parrondo and Van den Broek is 5.101361964962139\n",
      "Devroye is 5.5979442138337605\n"
     ]
    },
    {
     "data": {
      "image/png": "[encoded data removed]",
      "text/plain": [
       "<matplotlib.figure.Figure at 0x10d056390>"
      ]
     },
     "metadata": {},
     "output_type": "display_data"
    }
   ],
   "source": [
    "%matplotlib inline\n",
    "import matplotlib.pyplot as plt\n",
    "import numpy as np\n",
    "import math\n",
    "\n",
    "dvc = 50\n",
    "delta = 0.05\n",
    "def vc(N):\n",
    "    ''' original VC bound: epsilon as function of N'''\n",
    "    return math.sqrt( (8/N) * math.log((4* (2*N)**dvc) / delta))\n",
    "    \n",
    "def radPen(N):\n",
    "    ''' Rademacher Penalty Bound '''\n",
    "    return math.sqrt((2 * math.log(2*N * N**dvc))/ N) + math.sqrt(2/N * math.log(1/delta)) + 1 / N\n",
    "    \n",
    "def parVan(N):\n",
    "    '''Parrondo and Van den Broek Bound: implicit formula estimated with initial guess of 1'''\n",
    "    def estParVan(N, eps):\n",
    "        estimate = math.sqrt(1/N * (2 * eps + math.log( (6 * (2*N)**dvc) / delta )))\n",
    "        if (estimate - eps) <= 0.00001:\n",
    "            return estimate\n",
    "        else:\n",
    "            return estParVan(N, estimate)\n",
    "    return estParVan(N, 0.5)\n",
    "    \n",
    "    # use other bound as initial guess\n",
    "    guess = radPen(N)\n",
    "    \n",
    "    return estParVan(N, guess)\n",
    "    \n",
    "def devroye(N):\n",
    "    ''' Devroye Bound: implicit formula estimated with initial guess of 1'''\n",
    "    def estDev(N, eps):\n",
    "        estimate = math.sqrt(1/(2*N) * ( 4*eps*(1+eps) +  math.log(4 / delta) + dvc * math.log(N**2) ) )\n",
    "        if (estimate - eps)**2 <= 0.0001:\n",
    "            return estimate\n",
    "        else:\n",
    "            return estDev(N, estimate)\n",
    "        \n",
    "    # use other bound as initial guess\n",
    "    guess = radPen(N)\n",
    "    return estDev(N, guess)\n",
    "\n",
    "N = np.arange(1, 10000, 5)\n",
    "\n",
    "plt.plot(N, np.vectorize(vc)(N), label = \"VC Bound\")\n",
    "plt.plot(N, np.vectorize(radPen)(N), label = \"Rademacher Penalty Bound\")\n",
    "plt.plot(N, np.vectorize(parVan)(N), label = \"Parrando and Van den Broek Bound\")\n",
    "#plt.plot(N, np.vectorize(devroye)(N), label = \"Devroye Bound\")\n",
    "plt.legend()\n",
    "plt.ylim(0, 5)\n",
    "plt.xlim(10, 10000)\n",
    "\n",
    "def printTestValues(test_N):\n",
    "    print(\"For N = {}:\".format(test_N))\n",
    "    print(\"vc is {}\".format(vc(test_N)))\n",
    "    print(\"Rademacher is {}\".format(radPen(test_N)))\n",
    "    print(\"Parrondo and Van den Broek is {}\".format(parVan(test_N)))\n",
    "    print(\"Devroye is {}\".format(devroye(test_N)))\n",
    "\n",
    "# Q2\n",
    "printTestValues(10000)\n",
    "print()\n",
    "#Q3\n",
    "printTestValues(5)"
   ]
  },
  {
   "cell_type": "markdown",
   "metadata": {},
   "source": [
    "__A2. [d] __\n",
    "\n",
    "__A3. [c] __"
   ]
  },
  {
   "cell_type": "markdown",
   "metadata": {},
   "source": [
    "Consider the case where the target function $f : [−1, 1] \\rightarrow \\mathbb{R}$ is given by $f(x) = \\sin(\\pi x)$ and the input probability distribution is uniform on $[−1, 1]$. Assume that the training set has only two examples (picked independently), and that the learning algorithm produces the hypothesis that minimizes the mean squared error on the examples.\n",
    "\n",
    "Q4. Assume the learning model consists of all hypotheses of the form $h(x) = ax$.\n",
    "What is the expected value, $\\bar{g}(x)$, of the hypothesis produced by the learning\n",
    "algorithm (expected value with respect to the data set)? Express your $\\bar{g}(x)$ as\n",
    "$\\bar{a}x$ , and round $\\bar{a}$ to two decimal digits only, then match exactly to one of the\n",
    "following answers."
   ]
  },
  {
   "cell_type": "markdown",
   "metadata": {},
   "source": [
    "A4. With just two training examples, $(x_1, y_1)$ and $(x_2, y_2)$, and $h(x) = ax$, the average mean squared error is, \n",
    "\n",
    "$$\\epsilon(a) = \\frac{1}{2} \\left [ (a x_1 - y_1)^2 + (a x_2 - y_2)^2 \\right ] $$\n",
    "\n",
    "where, setting the derivative to $0$ to find minimizing value of $a$, \n",
    "\n",
    "$$\\frac{d \\epsilon}{d a} = x_1(a x_1 - y_1) + x_2(ax_2 - y_2) = ax_1^2 + ax_2^2 - x_1y_1 - x_2y_2 = 0 $$\n",
    "\n",
    "$$a(x_1^2 + x_2^2) = x_1y_1 + x_2y_2$$\n",
    "\n",
    "$$ a = \\frac{x_1y_1 + x_2y_2}{x_1^2 + x_2^2} $$"
   ]
  },
  {
   "cell_type": "code",
   "execution_count": 264,
   "metadata": {
    "collapsed": false
   },
   "outputs": [
    {
     "name": "stdout",
     "output_type": "stream",
     "text": [
      "1.43\n"
     ]
    }
   ],
   "source": [
    "def run(data = None):\n",
    "    ''' run learning algorithm once, return hypothesis'''\n",
    "    # 2 training examples\n",
    "    train = np.random.uniform(-1, 1, 2)\n",
    "\n",
    "    # target function\n",
    "    f = lambda x: np.sin(np.pi * x)\n",
    "\n",
    "    # evaluate training examples with target function\n",
    "    y = f(train)\n",
    "\n",
    "    return (np.inner(train, y) / np.sum(np.square(train)))\n",
    "    \n",
    "\n",
    "# run 1000 times\n",
    "gs = [run() for n in range(10000)]\n",
    "\n",
    "# average is expected g; truncated to 2 decimal points\n",
    "a_avg = sum(gs) / len(gs)\n",
    "print(\"{0:.2f}\".format(a_avg))"
   ]
  },
  {
   "cell_type": "markdown",
   "metadata": {},
   "source": [
    "__ 4A. [e] None of the above __"
   ]
  },
  {
   "cell_type": "code",
   "execution_count": 354,
   "metadata": {
    "collapsed": false
   },
   "outputs": [
    {
     "data": {
      "text/plain": [
       "0.27074272572060754"
      ]
     },
     "execution_count": 354,
     "metadata": {},
     "output_type": "execute_result"
    }
   ],
   "source": [
    "# alternate monte carlo estimate for bias\n",
    "t1 = np.random.uniform(-1, 1, 100000)\n",
    "\n",
    "f = lambda x: np.sin(np.pi * x)\n",
    "\n",
    "np.average(np.square(1.43 *t1 - f(t1)))"
   ]
  },
  {
   "cell_type": "markdown",
   "metadata": {},
   "source": [
    "For the bias,\n",
    "\n",
    "$$\\text{bias} = \\mathbb{E}_x [\\text{bias}(x) ] = \\mathbb{E}_x [(\\bar{g}(x) - f(x))^2] $$\n",
    "\n",
    "\n",
    "So with $\\bar{g}(x) = 1.43x$ and $f(x) = \\sin(\\pi x)$, \n",
    "\n",
    "$$\\text{bias} = \\mathbb{E}_X [ (1.43x - \\sin(\\pi x) )^2 ] $$\n",
    "\n",
    "$$ \\text{bias} = \\int_{x=-1}^{1} p(x) (1.43x - \\sin(\\pi x))^2 $$\n",
    "\n",
    "Where $p(x)$ is a _uniform_ probability from $-1$ to $1$, i.e., \n",
    "\n",
    "$$p(x) = \\frac{1}{1 - (-1)} = \\frac{1}{2}$$, \n",
    "\n",
    "so, \n",
    "\n",
    "$$\\text{bias} = \\frac{1}{2} \\int_{x=-1}^{1} (1.43 x - \\sin(\\pi x))^2 \\approx 0.271$$\n",
    "\n",
    "\n",
    "__ 5A. [b] 0.3 __"
   ]
  },
  {
   "cell_type": "markdown",
   "metadata": {},
   "source": [
    "Q6. What is the closest value to the variance in this case? \n",
    "\n",
    "A. We estimate it by randomly generating samples of $\\mathcal{D}$, evaluating the expected value (and noting again that $p(x)$ is uniform, so equals $1/2$), and then averaging these expected values to estimate the variance. \n",
    "\n",
    "$$\\text{var} = \\mathbb{E}_{X} [ \\mathbb{E}_{\\mathcal{D}} [ (g^{(\\mathcal{D})}(x) - \\bar{g}(x))^2 ]] $$\n",
    "\n",
    "We approximate this with a simple Monte Carlo method as follows: randomly choose two points that make up a given data set $\\mathcal{D}$. Use these two points to determine a hypothesis $g^{(\\mathcal{D})}$, and then get a new set of test points as $x$ between -1 and 1 to approximate the  "
   ]
  },
  {
   "cell_type": "code",
   "execution_count": 353,
   "metadata": {
    "collapsed": false
   },
   "outputs": [
    {
     "data": {
      "text/plain": [
       "0.23199243506192993"
      ]
     },
     "execution_count": 353,
     "metadata": {},
     "output_type": "execute_result"
    }
   ],
   "source": [
    "test = np.random.uniform(-1, 1, 10000)\n",
    "f = lambda x: np.sin(np.pi * x)\n",
    "\n",
    "var = np.empty(1000)\n",
    "for i in range(1000):\n",
    "    g = run()\n",
    "    test = np.random.uniform(-1, 1, 1000)\n",
    "    # multiply each estimated variance by 0.5 since there are d\n",
    "    var[i] = np.average(np.square(g*test - 1.43*test))\n",
    "\n",
    "\n",
    "np.average(var)"
   ]
  },
  {
   "cell_type": "markdown",
   "metadata": {},
   "source": [
    "__A6. [a] __ 0.2"
   ]
  },
  {
   "cell_type": "markdown",
   "metadata": {},
   "source": [
    "Q7. Now, let’s change $\\mathcal{H}$. Which of the following learning models has the least expected value of out-of-sample error?\n",
    "\n",
    "For the following, we calculate the bias and variance and sum them since,\n",
    "\n"
   ]
  },
  {
   "cell_type": "markdown",
   "metadata": {},
   "source": [
    "We express the error of each of the hypothesis as being transformations of the squared error of linear regression. Explicitly, let $\\theta = [b, a]$, so that the minimizing value is given by,\n",
    "\n",
    "$$\\mathbf{\\theta} = (X^T X)^{-1} X^T \\mathbf{y}$$\n",
    "\n",
    "For $h(x) = b$, let $x_i = [1, 0]$ \n",
    "\n",
    "Similarly,\n",
    "\n",
    "$$\n",
    "\\begin{align}\n",
    "h(x) = ax &\\implies x_i = [x, 0] \\\\\n",
    "h(x) = ax + b &\\implies x_i = [x, 1] \\\\\n",
    "h(x) = ax^2  &\\implies x_i = [x^2, 0] \\\\\n",
    "h(x) = ax^2 + b &\\implies x_i = [x^2, 1]\n",
    "\\end{align}\n",
    "$$"
   ]
  },
  {
   "cell_type": "code",
   "execution_count": 514,
   "metadata": {
    "collapsed": false
   },
   "outputs": [],
   "source": [
    "# function to transform and combine\n",
    "combine = lambda a,b: np.concatenate((a.reshape(1, a.shape[0]), b.reshape(1, b.shape[0])))\n",
    "\n",
    "# target function\n",
    "f = lambda x: np.sin(np.pi * x)\n",
    "\n",
    "# transformed xs\n",
    "x_a = lambda x: combine(np.zeros(x.shape[0]), np.zeros(x.shape[0]))\n",
    "x_b = lambda x: combine(x, np.zeros(x.shape[0]))\n",
    "x_c = lambda x: combine(x, np.ones(x.shape[0]))\n",
    "x_d = lambda x: combine(np.square(x), np.zeros(x.shape[0]))\n",
    "x_e = lambda x: combine(np.square(x), np.ones(x.shape[0]))\n",
    "xs = [x_a, x_b, x_c, x_d, x_e]\n",
    "\n",
    "theta = lambda x,y: np.inner(np.linalg.pinv(x).T, y) \n",
    "\n",
    "# data to approximate expected g value\n",
    "data = np.random.uniform(-1, 1, 1000)\n",
    "\n",
    "# thetas for all values\n",
    "thetas = [theta(x(data), f(data)) for x in xs]\n",
    "\n",
    "\n",
    "def g(x, theta):\n",
    "    ''' returns hypotheses given theta '''\n",
    "    return x * theta[0] + theta[1]\n",
    "\n",
    "def bias(theta, f):\n",
    "    ''' estimates bias given hypothesis (theta) and target function '''\n",
    "    test = np.random.uniform(-1, 1, 1000)\n",
    "    return np.average(np.square(g(test, theta) - f(test)))\n",
    "\n",
    "# get variances\n",
    "variances = []\n",
    "\n",
    "for j, t in enumerate(thetas):\n",
    "    variances.append(np.empty(1000))\n",
    "    for i in range(1000):\n",
    "        # smaller training data of just 2 examples\n",
    "        train = np.random.uniform(-1, 1, 2)\n",
    "\n",
    "        \n",
    "        g_t = theta(xs[j](train), f(train))\n",
    "\n",
    "        # test data to compare with average hypothesis\n",
    "        test = np.random.uniform(-1, 1, 1000)\n",
    "\n",
    "        # get average hypothesis for test\n",
    "        variances[j][i] = np.average(np.square(g(test, g_t) - g(test, t)))\n",
    "    \n"
   ]
  },
  {
   "cell_type": "code",
   "execution_count": 528,
   "metadata": {
    "collapsed": false
   },
   "outputs": [
    {
     "name": "stdout",
     "output_type": "stream",
     "text": [
      "0.49696437478\n",
      "0.532258606647\n",
      "1.83423175771\n",
      "24.6238258668\n",
      "3447.68076466\n"
     ]
    }
   ],
   "source": [
    "exp_biases = [bias(t, f) for t in thetas]\n",
    "\n",
    "exp_var = [np.average(v) for v in variances]\n",
    "\n",
    "\n",
    "error = (bis + vas for bis,vas in zip(exp_biases, exp_var))\n",
    "\n",
    "for err in error:\n",
    "    print(err)"
   ]
  },
  {
   "cell_type": "markdown",
   "metadata": {},
   "source": [
    "__ A7. [a] Hypotheses of the form h(x) = b __"
   ]
  },
  {
   "cell_type": "markdown",
   "metadata": {},
   "source": [
    "Q8. Assume $q \\geq 1$ is an integer and let $m_{\\mathcal{H}}(1) = 2$. What is the VC dimension of a hypothesis set whose growth function satisfies: $m_{\\mathcal{H}}(N + 1) = 2 m_{\\mathcal{H}}(N) − {N \\choose q}$ ? Recall that ${M \\choose m} = 0$ when $m > M$. \n",
    "\n",
    "Note that for any $N < q$, ${N \\choose q} = 0$, so that, \n",
    "\n",
    "$$m_{\\mathcal{H}}(2) = 2 m_{\\mathcal{H}}(1) = 2^2 $$\n",
    "$$m_{\\mathcal{H}}(3) = 2 m_{\\mathcal{H}}(2) = 2^3 $$\n",
    "$$m_{\\mathcal{H}}(q) = 2m_{\\mathcal{H}}(q-1) = 2 (2 m_{\\mathcal{H}}(q-2)) = 2 ( 2( \\ldots (2 m_{\\mathcal{H}}(1))) = 2^q$$\n",
    "\n",
    "Then, since, \n",
    "\n",
    "$$m_{\\mathcal{H}}(q+1) = 2 m_{\\mathcal{H}}(q) - {q \\choose q} = 2^{q+1} - 1 < 2^{q+1}$$\n",
    "\n",
    "It follows that the breakpoint is $q$. \n",
    "\n",
    "__ 8A. [c] __"
   ]
  },
  {
   "cell_type": "markdown",
   "metadata": {},
   "source": [
    "Q9. For hypothesis sets $\\mathcal{H}_1, \\mathcal{H}_2, \\ldots, \\mathcal{H}_K$ with finite, positive VC dimensions $d_{vc}(\\mathcal{H}_k)$, some of the following bounds are correct and some are not. Which among the correct ones is the tightest bound (the smallest range of values) on the VC dimension of the __intersection__ of the sets: $d_{vc}(\\cap_{k=1}^{K} \\mathcal{H}_k)$? (The VC dimension of an empty set or a singleton set is taken as zero)\n",
    "\n",
    "We start from the tightest possible lower bound and check its correctness, i.e.,  \n",
    "\n",
    "$$ \\text{min} \\{ d_{VC} (\\mathcal{H}_K) \\}^K_{k=1} \\leq d_{VC} (\\cap_{k=1}^K \\mathcal{H}_k) $$\n",
    "\n",
    "To disprove the left side, consider that if $(\\cap_{k=1}^K \\mathcal{H}_k) = \\emptyset$, then $d_{VC} (\\mathcal{H}_k) = 0$. Since each hypothesis set has positive VC dimension by construction, the min of the set is strictly larger than $0$, so the next tightest possible bound is now, \n",
    "\n",
    "$$0 \\leq d_{VC} (\\cap_{k=1}^K \\mathcal{H}_k) $$\n",
    "\n",
    "For the righthand side, the tightest possible bound is \n",
    "\n",
    "$$ d_{VC} (\\cap_{k=1}^K \\mathcal{H}_k)  \\leq \\text{min} \\{d_{VC} (\\mathcal{H}_k) \\}_{k=1}^{K} $$\n",
    "\n",
    "Clearly the subset of a hypothesis set can shatter at _most_ as many points as its superset. Since the intersection is a subset of each hypothesis set, it follows it's also a subset of the hypothesis set with the minimum VC dimension and the above holds. \n",
    "\n",
    "__9A. [b] $0 \\leq d_{VC} (\\cap_{k=1}^{K} \\mathcal{H}_k ) \\leq d_{VC} (\\mathcal{H}_i)$ __"
   ]
  },
  {
   "cell_type": "markdown",
   "metadata": {},
   "source": [
    "Q10. For hypothesis sets $\\mathcal{H}_1, \\mathcal{H}_2, \\ldots, \\mathcal{H}_K$ with finite, positive VC dimensions $d_{vc}(\\mathcal{H}_k)$, some of the following bounds are correct and some are not. Which among the correct ones is the tightest bound (the smallest range of values) on the VC dimension of the __union__ of the sets: $d_{vc}(\\cup_{k=1}^{K} \\mathcal{H}_k)$? \n",
    "\n",
    "Similarly, we start from the tightest possible lower bound and check its correctness: \n",
    "\n",
    "$$\\text{max} \\{d_{VC} (\\mathcal{H}_k) \\}_{k=1}^{K} \\leq d_{vc}(\\cup_{k=1}^{K} \\mathcal{H}_k)$$\n",
    "\n",
    "We use the same argument as above (that a subset's VC dimension is at most that of its superset), noting that every hypothesis set is a subset of the union, so that the hypothesis set with the max VC dimension is also a subset of the union and thus the above holds. \n",
    "\n",
    "The tightest possible upper bound is, \n",
    "\n",
    "$$ d_{VC}(\\cup_{k=1}^{K} \\mathcal{H}_k) \\leq \\sum_{k=1}^K d_{VC} (\\mathcal{H}_k) $$\n",
    "\n",
    "For a counterexample, consider the case of two hypothesis sets $\\mathcal{H_1}$ and $\\mathcal{H_2}$ on $\\mathbb{R}^2$. Suppose $\\mathcal{H_1}$ can label just one point as $+1$ or $-1$ (so that all the rest become the opposite sign) and that $\\mathcal{H_2}$ can only label either all points as $+1$ or all points as $-1$. Clearly each hypothesis set can only shatter one point. Their union, however, can shatter 3 points. So the only other possibility is \n",
    "\n",
    "$$ d_{VC}(\\cup_{k=1}^{K} \\mathcal{H}_k) \\leq K - 1 + \\sum_{k=1}^K d_{VC} (\\mathcal{H}_k) $$\n",
    "\n",
    "__10A. [e] $\\text{max} \\{d_{VC} (\\mathcal{H}_k) \\}_{k=1}^{K} \\leq d_{vc}(\\cup_{k=1}^{K} \\mathcal{H}_k)  \\leq K - 1 + \\sum_{k=1}^K d_{VC} (\\mathcal{H}_k)$ __"
   ]
  }
 ],
 "metadata": {
  "kernelspec": {
   "display_name": "Python [Root]",
   "language": "python",
   "name": "Python [Root]"
  },
  "language_info": {
   "codemirror_mode": {
    "name": "ipython",
    "version": 3
   },
   "file_extension": ".py",
   "mimetype": "text/x-python",
   "name": "python",
   "nbconvert_exporter": "python",
   "pygments_lexer": "ipython3",
   "version": "3.5.1"
  }
 },
 "nbformat": 4,
 "nbformat_minor": 2
}
