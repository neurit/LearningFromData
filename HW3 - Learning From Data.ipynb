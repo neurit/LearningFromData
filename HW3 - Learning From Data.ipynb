{
 "cells": [
  {
   "cell_type": "markdown",
   "metadata": {},
   "source": [
    "Q1. The modified Hoeffding Inequality provides a way to characterize the generalization error with a probabilistic bound   \n",
    "\n",
    "$$\\mathbb{P} [ |E_{\\text{in}} (g) - E_{\\text{out}}(g)| > \\epsilon| \\leq 2 M e^{-2 \\epsilon^2 N}$$\n",
    "\n",
    "for any $\\epsilon > 0$. If we set $\\epsilon = 0.05$ and want the probability bound $2 M e^{-2 \\epsilon^2 N}$ to be at most 0.03, what is the least number of examples $N$ (among the given choices) needed for the case $M = 1$. \n",
    "\n",
    "A. In other words, solve the following inequality for $N$ (leaving the M for next questions). \n",
    "\n",
    "$$2 M e^{-2 (0.05)^2 N} \\leq 0.03$$ \n",
    "\n",
    "$$ e^{-0.005N} \\leq \\frac{0.015}{M} $$\n",
    "\n",
    "$$ -0.005N \\leq \\log \\left ( \\frac{0.015}{M} \\right ) $$\n",
    "\n",
    "$$ N \\geq - \\frac{ \\log(0.015) - \\log(M)}{0.005} $$\n",
    "\n",
    "So, for $M = 1$\n",
    "\n",
    "$$ N \\geq - \\frac{\\log(0.015)}{0.005} \\approx 839.941 $$\n",
    "\n",
    "__1A. [b] 1000 __\n"
   ]
  },
  {
   "cell_type": "markdown",
   "metadata": {},
   "source": [
    "Q2. Repeat for the case $M = 10$. \n",
    "\n",
    "Using the same equation, \n",
    "\n",
    "$$ N \\geq - \\frac{ \\log(0.015) - \\log(M)}{0.005}  = - \\frac{ \\log(0.015) - \\log(10)}{0.005}  \\approx 1300.46$$\n",
    "\n",
    "__2A. [c] 1500 __\n",
    "\n"
   ]
  },
  {
   "cell_type": "markdown",
   "metadata": {},
   "source": [
    "Q3. Repeat for the case M = 100. \n",
    "\n",
    "$$ N \\geq - \\frac{ \\log(0.015) - \\log(M)}{0.005}  = - \\frac{ \\log(0.015) - \\log(100)}{0.005}  \\approx 1760.98$$\n",
    "\n",
    "\n",
    "__3A. [d] 2000 __"
   ]
  },
  {
   "cell_type": "markdown",
   "metadata": {},
   "source": [
    "Q4. \n",
    "\n",
    "A. The logic of the solution relies on colinear/coplanar points necessarily existing in certain spaces, but being impossible to shatter without an added dimension. We start with $\\mathbb{R}^1$ and use the same reasoning for higher dimensions. \n",
    "\n",
    "2 points can be shattered by either placing the 1d \"hyperplane\" (a point) to the right of both points, in between the points or to the left of both points. 3 points, however, cannot be seperated as the configuration with the outer points being labeled differently from the one in between them is impossible. So the min break point is 3. \n",
    "\n",
    "In $\\mathbb{R}^2$, the same 3 points can be seperated if one takes the middle point and moves it into the newly added 2nd dimension, out of the line that goes through the outer points. The remaining cases similarly follow from a symmetric argument, i.e., as long as the points are not all colinear they can be seperated, so 3 points can be shattered. With 4 points, there is a problem of the same nature as with 3 points in $R^1$. Consider the pair of intersecting lines that run through two points each: this configuration will always exist (if the two lines are parellel, swap the points that determine the lines), and it is impossible to label the two points on each of these lines differently. So the min break point is $4$. \n",
    "\n",
    "Finally, in $\\mathbb{R}^3$, the same 4 points can be seperated if one takes two points that lie on one of the intersecting lines and moves it into the newly added 3rd dimension so that the lines are askew. More generally, take the 3 points that can be shattered in $R^2$, which determine a plane, and choose the 4th point such that it is not in that plane. Then any 3-subset of the 4 points determine a line, with the remaining 4th point not coplanar, such that the problem reduces down to 3 points in $R^2$ plus trivially drawing a parellel plane between the remaning 4th point. \n",
    "\n",
    "5 points, however, cannot be. As before, the abstract problem involves \"outer\" points and \"inner\" points not being able to seperated because they are restricted to $\\mathbb{R}^3$ (and the problem would be remedied by adding another dimension and considering them as not all lying in the same 4d hyperplane). Consider a 3-subset of the 5 points that determine a plane such that the remaining two points (on either side of the plane) determine a line that intersects that plane (and again, if the line and plane are parellel, swap the points that determine each; because of the space restriction to $R^3$, it is always possible to get this configuration). Then it would be impossible to split both points of the line plus a non-colinear one of the plane, from the remanining two points on the plane. Thus the min breakpoint is 5. \n",
    "\n",
    "__4A. [b] 5 __"
   ]
  },
  {
   "cell_type": "markdown",
   "metadata": {},
   "source": [
    "Q5. Which of the following are possible formulas for a growth function $m_{\\mathcal{H}}(N)$? \n",
    "\n",
    "i.) $1 + N$ \n",
    "\n",
    "ii.) $ 1 + N + {N \\choose 2}$ \n",
    "\n",
    "iii.) $\\sum_{i=1}^{\\lfloor \\sqrt{N} \\rfloor} {N \\choose i}$ \n",
    "\n",
    "iv.) $2^{\\lfloor N/2 \\rfloor}$ \n",
    "\n",
    "v.) $2^N$ \n",
    "\n",
    "where $\\lfloor u \\rfloor$ is the biggest integer $\\leq u$, and ${M \\choose m} = 0$ when $m > M$.\n",
    "\n",
    "A. If there is no break point, then $m_{\\mathcal{H}} (N) = 2^n$. However, if there is any breakpoint $k$, then we proved that the growth function is polynomial, in particular that, \n",
    "\n",
    "$$m_{\\mathcal{H}} (N) \\leq \\sum_{i=0}^{k-1} {N \\choose i}$$\n",
    "\n",
    "It follows that _impossible_ growth functions are such that, \n",
    "\n",
    "$$ \\sum_{i=0}^{k-1} {N \\choose i} < m_{\\mathcal{H}} (N) < 2^n$$\n",
    "\n",
    "Clearly v.) is possible (no breakpoint case). i., ii., can be satisfied with breakpoints $k=1$, $k=2$ respectively. \n",
    "\n",
    "iii. Would imply that $k \\leq \\lfloor \\sqrt{N} \\rfloor + 1$, which is not a valid breakpoint since the breakpoint is a _constant_, independent of $N$. With large enough $N$, this would violate the polynomial constraint.\n",
    "\n",
    "iv.), has no valid corresponding breakpoint. Since the max exponent of $m_{\\mathcal{H}} (N) \\leq \\sum_{i=0}^{k-1} {N \\choose i}$ is $N^{k-1}$, we can say that asymptotically, for large enough $N$, \n",
    "\n",
    "$$m_{\\mathcal{H}} < N^{k} $$\n",
    "\n",
    "Then for $2^{\\lfloor N/2 \\rfloor}$ to be valid, we would need, \n",
    "\n",
    "$$2^{\\lfloor N/2 \\rfloor} < N^{k}, \\quad \\forall N$$\n",
    "\n",
    "which is not possible, since if we fix $k$, the exponential on the left will eventually be larger than the polynomial on the right for larger $N$. \n",
    "\n",
    "__5A. [b] i, ii, v __"
   ]
  },
  {
   "cell_type": "markdown",
   "metadata": {},
   "source": [
    "Q6. Consider the “2-intervals” learning model, where $h: \\mathbb{R} \\rightarrow \\{−1, +1\\}$ and $h(x) = +1$ if the point is within either of two arbitrarily chosen intervals and $−1$ otherwise.\n",
    "\n",
    "What is the (smallest) break point for this hypothesis set?\n",
    "\n",
    "A. Since this is a superset of the 1-interval learning model, its breakpoint is at least equal to that of the 1-interval model, i.e, $k \\geq 3$. The pathological case for the 1-interval model, where the middle one is split from the outer, can be easily solved with the addition of another interval. \n",
    "\n",
    "Consider 4 points. Having repeated +1s, or -1s, effectively reduces the problem down to having 3 points (since you can treat those repeated points as the same point), so the only real cases to check are the 2 alternating ones, both of which are easily created by just choosing the intervals around the 2 +1s that result.\n",
    "\n",
    "Then consider 5 points, in particular the configuration of $+1 -1 +1 -1 +1$. Since you need to use one interval to label a point as $+1$, this configuration cannot be created with 2 intervals. Thus the minimum break point is 5. \n",
    "\n",
    "__6A. [c] 5 __\n"
   ]
  },
  {
   "cell_type": "markdown",
   "metadata": {},
   "source": [
    "Q7. Which of the following is the growth function $m_{\\mathcal{H}}(N)$ for the “2-intervals”\n",
    "hypothesis set?\n",
    "\n",
    "A. There are $N+1$ spots to choose from. If there is no overlap in these intervals, there $4$ possible interval locations from these $N+1$ spots, so ${N+1 \\choose 4}$. \n",
    "\n",
    "If there is overlap in the 2-intervals, this reduces down to the 1-interval case, which we already counted to be ${N+1 \\choose 2} + 1$; this also covers the other cases where all points  are $-1$. \n",
    "\n",
    "__7A. [c] ${N+1 \\choose 4} + {N+1 \\choose 2} + 1$ __"
   ]
  },
  {
   "cell_type": "markdown",
   "metadata": {},
   "source": [
    "Q8. Now, consider the general case: the “$M$-intervals” learning model. Again $h :\n",
    "\\mathbb{R} \\rightarrow \\{−1, +1\\}$, where $h(x) = +1$ if the point falls inside any of $M$ arbitrarily chosen intervals, otherwise $h(x) = −1$. What is the (smallest) break point of\n",
    "this hypothesis set?\n",
    "\n",
    "At the very least, without any thought, this general solution should align with our previous solutions for $(M=1) \\rightarrow 3$ and $(M = 2) \\rightarrow 5$. So clearly the answer is $2M +1$. \n",
    "\n",
    "An actual argument can be constructed by induction. The base cases are above, so suppose the smallest breakpoint for some $k$ is $2k + 1$. In other words, with $k$-intervals, we can shatter $2k$ points, but not $2k+1$. \n",
    "\n",
    "Consider then $2k+1$ points with $k+1$ intervals. Any repeated $+1$s or $-1$s effectively reduce the problem down to at most $2k$ points, which we can solve with $k$ intervals by the induction hypothesis (place the $k+1$th interval to the right of all points). Thus, all that needs to be considered are the two alternating cases, $+1, -1, \\ldots$ and $-1, +1, \\ldots$. Since there are $2k+1$ points, if the pattern starts at $+1$, there $k+1$ total $+1$s; therefore just set $k+1$ intervals around all of these points and the configuration is made. Finally, if the pattern starts at $-1$, there are $k$ total $+1$s, so just put $k$ intervals around the $k$ different $+1$s, then put the $k+1$th interval to the right of all points. \n",
    "\n",
    "__ 8A. [d] $2M + 1$ __\n",
    "\n"
   ]
  },
  {
   "cell_type": "markdown",
   "metadata": {},
   "source": [
    "Q9. Consider the “triangle” learning model, where $h : \\mathbb{R}^2 \\rightarrow \\{−1, +1\\}$ and $h(x) = +1$ if $x$ lies within an arbitrarily chosen triangle in the plane and −1 otherwise.\n",
    "Which is the largest number of points in $\\mathbb{R}^2$ (among the given choices) that can be shattered by this hypothesis set?\n",
    "\n",
    "A. 1 and 3 are trivial to shatter by brute force. \n",
    "\n",
    "For 5, as with general convex sets, put all 5 points along a circle. All points can be contained in a triangle that inscribes the circle (and no points by a triangle within the circle). 1 subsets are trivial. Any 2 subset can be isolated choosing the 2 points to be contained and chosing some other arbitrary non-relevant point on the circle. Any 3-subset of these 5 points can then isolated by drawing the triangle with the 3 points as the vertices (or slightly extended if the perimeter does not count). For 4 subsets, there is just one point to be excluded from the triangle. Take two points and extend a line connecting them. Take the two remaiing points and extend the tangent from them. Make one vertex the intersection of the two tangents, and the other two vertices the intersections of the two tangents to the first line between the two points. \n",
    "\n",
    "For 7, \n",
    "\n",
    "__9A. [d] 7__\n"
   ]
  },
  {
   "cell_type": "markdown",
   "metadata": {},
   "source": [
    "Q10. Compute the growth function $m_{\\mathcal{H}}(N)$ for the learning model made up of two concentric circles in $\\mathbb{R}^2$. Specfically, $\\mathcal{H}$ contains the functions which are $+1$ for \n",
    "\n",
    "$$a^2 \\leq x_1^2 + x_2^2 \\leq b^2$$\n",
    "\n",
    "and $-1$ otherwise. \n",
    "\n",
    "A. If two points have the same radius, they can never be seperated, so maximal dichotomies will require all points to have different radii, and indeed, then the only distinguishing factor between points in this view is its radius. This is structurally identical to the 1-interval case, i.e., the growth function is the same as well. \n",
    "\n",
    "__10A. [b] ${N+1 \\choose 2} + 1$ __\n"
   ]
  }
 ],
 "metadata": {
  "anaconda-cloud": {},
  "kernelspec": {
   "display_name": "Python [Root]",
   "language": "python",
   "name": "Python [Root]"
  },
  "language_info": {
   "codemirror_mode": {
    "name": "ipython",
    "version": 3
   },
   "file_extension": ".py",
   "mimetype": "text/x-python",
   "name": "python",
   "nbconvert_exporter": "python",
   "pygments_lexer": "ipython3",
   "version": "3.5.1"
  }
 },
 "nbformat": 4,
 "nbformat_minor": 2
}
